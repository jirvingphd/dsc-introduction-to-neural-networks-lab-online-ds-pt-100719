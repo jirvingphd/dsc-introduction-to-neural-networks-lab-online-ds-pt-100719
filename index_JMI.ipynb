{
 "cells": [
  {
   "cell_type": "markdown",
   "metadata": {},
   "source": [
    "# Introduction to Neural Networks - Lab"
   ]
  },
  {
   "cell_type": "markdown",
   "metadata": {},
   "source": [
    "- Solution https://github.com/jirvingphd/dsc-introduction-to-neural-networks-lab-online-ds-pt-100719/tree/solution"
   ]
  },
  {
   "cell_type": "markdown",
   "metadata": {},
   "source": [
    "## Introduction"
   ]
  },
  {
   "cell_type": "markdown",
   "metadata": {},
   "source": [
    "In this lab, you'll practice everything you have learned during the lecture. We know there is quite a bit of math involved, but don't worry! Using Python and trying things out yourself will actually make a lot of things much more clear! Before we start, let's load some necessary libraries so we can import our data."
   ]
  },
  {
   "cell_type": "markdown",
   "metadata": {},
   "source": [
    "## Objectives\n",
    "\n",
    "In this lab you will:\n",
    "\n",
    "- Import images using Keras \n",
    "- Build a \"shallow\" neural network from scratch "
   ]
  },
  {
   "cell_type": "markdown",
   "metadata": {},
   "source": [
    "As usual, we'll start by importing the necessary packages that we'll use in this lab. "
   ]
  },
  {
   "cell_type": "code",
   "execution_count": 1,
   "metadata": {
    "ExecuteTime": {
     "end_time": "2020-05-20T02:13:58.546744Z",
     "start_time": "2020-05-20T02:13:58.544372Z"
    }
   },
   "outputs": [],
   "source": [
    "# !pip install pillow"
   ]
  },
  {
   "cell_type": "code",
   "execution_count": 2,
   "metadata": {
    "ExecuteTime": {
     "end_time": "2020-05-20T02:14:01.204364Z",
     "start_time": "2020-05-20T02:13:58.549380Z"
    }
   },
   "outputs": [
    {
     "name": "stderr",
     "output_type": "stream",
     "text": [
      "Using TensorFlow backend.\n"
     ]
    }
   ],
   "source": [
    "from keras.preprocessing.image import ImageDataGenerator, array_to_img, img_to_array, load_img\n",
    "import numpy as np\n",
    "import os"
   ]
  },
  {
   "cell_type": "markdown",
   "metadata": {},
   "source": [
    "In this lab, you'll import a bunch of images to correctly classify them as \"Santa\", meaning that Santa is present on the image or \"not Santa\" meaning that something else is in the images. \n",
    "\n",
    "If you have a look at this GitHub repository, you'll notice that the images are simply stored in `.jpeg` files and stored under the folder `'/data'`. Luckily, `keras` has great modules that make importing images stored in this type of format easy. We'll do this for you in the cell below.\n",
    "\n",
    "The images in the `'/data'` folder have various resolutions. We will reshape them so they are all 64 x 64 pixels."
   ]
  },
  {
   "cell_type": "code",
   "execution_count": 3,
   "metadata": {
    "ExecuteTime": {
     "end_time": "2020-05-20T02:14:15.719696Z",
     "start_time": "2020-05-20T02:14:01.205921Z"
    }
   },
   "outputs": [
    {
     "name": "stdout",
     "output_type": "stream",
     "text": [
      "Found 132 images belonging to 2 classes.\n",
      "Found 790 images belonging to 2 classes.\n"
     ]
    }
   ],
   "source": [
    "# Directory path\n",
    "train_data_dir = 'data/train'\n",
    "test_data_dir = 'data/validation'\n",
    "\n",
    "# Get all the data in the directory data/validation (132 images), and reshape them\n",
    "test_generator = ImageDataGenerator().flow_from_directory(\n",
    "        test_data_dir, \n",
    "        target_size=(64, 64), batch_size=132)\n",
    "\n",
    "# Get all the data in the directory data/train (790 images), and reshape them\n",
    "train_generator = ImageDataGenerator().flow_from_directory(\n",
    "        train_data_dir, \n",
    "        target_size=(64, 64), batch_size=790)\n",
    "\n",
    "# Create the datasets\n",
    "train_images, train_labels = next(train_generator)\n",
    "test_images, test_labels = next(test_generator)"
   ]
  },
  {
   "cell_type": "markdown",
   "metadata": {},
   "source": [
    "## Inspect and prepare data"
   ]
  },
  {
   "cell_type": "markdown",
   "metadata": {},
   "source": [
    "## Look at some images"
   ]
  },
  {
   "cell_type": "markdown",
   "metadata": {},
   "source": [
    "Note that we have four numpy arrays now: `train_images`, `train_labels`, `test_images`, and `test_labels`. We'll need to make some changes to the data in order to work with them, but before we do anything else, let's have a look at some of the images we loaded in `train_images`. You can use `array_to_img()` from `keras.processing.image` on any image (select any `train_image` using `train_image[index]` to look at it). "
   ]
  },
  {
   "cell_type": "code",
   "execution_count": 4,
   "metadata": {
    "ExecuteTime": {
     "end_time": "2020-05-20T02:14:15.741134Z",
     "start_time": "2020-05-20T02:14:15.721424Z"
    }
   },
   "outputs": [
    {
     "name": "stdout",
     "output_type": "stream",
     "text": [
      "Training Image 151\n"
     ]
    },
    {
     "data": {
      "image/png": "[encoded data removed]",
      "text/plain": [
       "<PIL.Image.Image image mode=RGB size=64x64 at 0x12A9D5D68>"
      ]
     },
     "metadata": {},
     "output_type": "display_data"
    },
    {
     "name": "stdout",
     "output_type": "stream",
     "text": [
      "Image Shape:\n",
      "(64, 64, 3)\n"
     ]
    },
    {
     "data": {
      "text/plain": [
       "Not Santa    1.0\n",
       "dtype: float32"
      ]
     },
     "execution_count": 4,
     "metadata": {},
     "output_type": "execute_result"
    }
   ],
   "source": [
    "# Preview an image\n",
    "import pandas as pd\n",
    "i = np.random.choice(range(len(train_images)))\n",
    "print(f\"Training Image {i}\")\n",
    "random_img = array_to_img(train_images[i])\n",
    "display(random_img)\n",
    "print(\"Image Shape:\")\n",
    "print(train_images[i].shape)\n",
    "\n",
    "res = pd.Series(train_labels[i],index=['Not Santa','Santa'])\n",
    "res[res>0][:]\n"
   ]
  },
  {
   "cell_type": "code",
   "execution_count": null,
   "metadata": {},
   "outputs": [],
   "source": []
  },
  {
   "cell_type": "code",
   "execution_count": 5,
   "metadata": {
    "ExecuteTime": {
     "end_time": "2020-05-20T02:14:15.747513Z",
     "start_time": "2020-05-20T02:14:15.742910Z"
    }
   },
   "outputs": [
    {
     "data": {
      "image/png": "[encoded data removed]",
      "text/plain": [
       "<PIL.Image.Image image mode=RGB size=64x64 at 0x632053470>"
      ]
     },
     "execution_count": 5,
     "metadata": {},
     "output_type": "execute_result"
    }
   ],
   "source": [
    "# Preview another image\n",
    "array_to_img(train_images[10])"
   ]
  },
  {
   "cell_type": "markdown",
   "metadata": {},
   "source": [
    "## The shape of data"
   ]
  },
  {
   "cell_type": "markdown",
   "metadata": {},
   "source": [
    "Now, let's use `np.shape()` to look at what these numpy arrays look like."
   ]
  },
  {
   "cell_type": "code",
   "execution_count": 6,
   "metadata": {
    "ExecuteTime": {
     "end_time": "2020-05-20T02:14:15.752852Z",
     "start_time": "2020-05-20T02:14:15.749174Z"
    }
   },
   "outputs": [
    {
     "data": {
      "text/plain": [
       "array([1., 0.], dtype=float32)"
      ]
     },
     "execution_count": 6,
     "metadata": {},
     "output_type": "execute_result"
    }
   ],
   "source": [
    "train_labels[0]"
   ]
  },
  {
   "cell_type": "code",
   "execution_count": 7,
   "metadata": {
    "ExecuteTime": {
     "end_time": "2020-05-20T02:14:15.757887Z",
     "start_time": "2020-05-20T02:14:15.754242Z"
    }
   },
   "outputs": [
    {
     "data": {
      "text/plain": [
       "((64, 64, 3), (2,))"
      ]
     },
     "execution_count": 7,
     "metadata": {},
     "output_type": "execute_result"
    }
   ],
   "source": [
    "# Preview the shape of both the images and labels for both the train and test sets (4 objects total)\n",
    "train_images[0].shape,train_labels[0].shape"
   ]
  },
  {
   "cell_type": "markdown",
   "metadata": {},
   "source": [
    "##  `train_images` and `test_images`"
   ]
  },
  {
   "cell_type": "markdown",
   "metadata": {},
   "source": [
    "Let's start with `train_images`. From the lesson, you might remember that the expected input shape is $n$ x $l$. How does this relate to what we see here?\n",
    "\n",
    "$l$ denotes the number of observations, or the number of images. The number of images in `train_images` is 790. $n$ is the number of elements in the feature vector for each image, or put differently, $n$ is the number of rows when unrowing the 3 (RGB) 64 x 64 matrices. \n",
    "\n",
    "So, translated to this example, we need to transform our `(790, 64, 64, 3)` matrix to a `(64*64*3, 790)` matrix! \n",
    "\n",
    "\n",
    "> Hint: You should use both the `.reshape()` method and then transpose the result using `.T`."
   ]
  },
  {
   "cell_type": "code",
   "execution_count": 8,
   "metadata": {
    "ExecuteTime": {
     "end_time": "2020-05-20T02:14:15.763144Z",
     "start_time": "2020-05-20T02:14:15.759306Z"
    }
   },
   "outputs": [
    {
     "data": {
      "text/plain": [
       "790"
      ]
     },
     "execution_count": 8,
     "metadata": {},
     "output_type": "execute_result"
    }
   ],
   "source": [
    "len(train_labels)"
   ]
  },
  {
   "cell_type": "code",
   "execution_count": 9,
   "metadata": {
    "ExecuteTime": {
     "end_time": "2020-05-20T02:14:15.768684Z",
     "start_time": "2020-05-20T02:14:15.765430Z"
    }
   },
   "outputs": [
    {
     "data": {
      "text/plain": [
       "(790, 64, 64, 3)"
      ]
     },
     "execution_count": 9,
     "metadata": {},
     "output_type": "execute_result"
    }
   ],
   "source": [
    "train_images.shape"
   ]
  },
  {
   "cell_type": "code",
   "execution_count": 10,
   "metadata": {
    "ExecuteTime": {
     "end_time": "2020-05-20T02:14:15.772721Z",
     "start_time": "2020-05-20T02:14:15.770398Z"
    }
   },
   "outputs": [],
   "source": [
    "# Preview the shape of train_img_unrow"
   ]
  },
  {
   "cell_type": "code",
   "execution_count": 11,
   "metadata": {
    "ExecuteTime": {
     "end_time": "2020-05-20T02:14:15.778115Z",
     "start_time": "2020-05-20T02:14:15.774336Z"
    }
   },
   "outputs": [
    {
     "data": {
      "text/plain": [
       "(12288, 790)"
      ]
     },
     "execution_count": 11,
     "metadata": {},
     "output_type": "execute_result"
    }
   ],
   "source": [
    "# Reshape the train images \n",
    "train_img_unrow = train_images.reshape(790,-1).T#\n",
    "train_img_unrow.shape"
   ]
  },
  {
   "cell_type": "code",
   "execution_count": 12,
   "metadata": {
    "ExecuteTime": {
     "end_time": "2020-05-20T02:14:15.783643Z",
     "start_time": "2020-05-20T02:14:15.779823Z"
    }
   },
   "outputs": [
    {
     "data": {
      "text/plain": [
       "(12288, 790)"
      ]
     },
     "execution_count": 12,
     "metadata": {},
     "output_type": "execute_result"
    }
   ],
   "source": [
    "# Reshape the train images \n",
    "train_img_unrow = train_images.reshape(len(train_labels),-1).T#\n",
    "train_img_unrow.shape"
   ]
  },
  {
   "cell_type": "markdown",
   "metadata": {},
   "source": [
    "Verify that the shape of the the newly created `train_img_unrow` is correct."
   ]
  },
  {
   "cell_type": "markdown",
   "metadata": {},
   "source": [
    "Next, let's transform `test_images` in a similar way. Note that the dimensions are different here! Where we needed to have a matrix shape of $n$ x $l$ for `train_images`; for `test_images`, we need to get to a shape of $n$ x $m$. What is $m$ here?"
   ]
  },
  {
   "cell_type": "code",
   "execution_count": 13,
   "metadata": {
    "ExecuteTime": {
     "end_time": "2020-05-20T02:14:15.788209Z",
     "start_time": "2020-05-20T02:14:15.784983Z"
    }
   },
   "outputs": [
    {
     "data": {
      "text/plain": [
       "132"
      ]
     },
     "execution_count": 13,
     "metadata": {},
     "output_type": "execute_result"
    }
   ],
   "source": [
    "len(test_labels)"
   ]
  },
  {
   "cell_type": "code",
   "execution_count": 14,
   "metadata": {
    "ExecuteTime": {
     "end_time": "2020-05-20T02:14:15.791928Z",
     "start_time": "2020-05-20T02:14:15.789542Z"
    }
   },
   "outputs": [],
   "source": [
    "# Define appropriate m \n",
    "m = len(test_labels)\n",
    "test_img_unrow = test_images.reshape(m, -1).T"
   ]
  },
  {
   "cell_type": "code",
   "execution_count": 15,
   "metadata": {
    "ExecuteTime": {
     "end_time": "2020-05-20T02:14:15.796824Z",
     "start_time": "2020-05-20T02:14:15.793508Z"
    }
   },
   "outputs": [
    {
     "data": {
      "text/plain": [
       "(12288, 132)"
      ]
     },
     "execution_count": 15,
     "metadata": {},
     "output_type": "execute_result"
    }
   ],
   "source": [
    "# Preview the shape of test_img_unrow\n",
    "test_img_unrow.shape"
   ]
  },
  {
   "cell_type": "markdown",
   "metadata": {},
   "source": [
    "## `train_labels` and `test_labels`"
   ]
  },
  {
   "cell_type": "markdown",
   "metadata": {},
   "source": [
    "Earlier, you noticed that `train_labels` and `test_labels` have shapes of $(790, 2)$ and $(132, 2)$ respectively. In the lesson, we expected $1$ x $l$ and $1$ x $m$.\n",
    "\n",
    "Let's have a closer look."
   ]
  },
  {
   "cell_type": "code",
   "execution_count": 16,
   "metadata": {
    "ExecuteTime": {
     "end_time": "2020-05-20T02:14:15.801825Z",
     "start_time": "2020-05-20T02:14:15.798337Z"
    }
   },
   "outputs": [
    {
     "data": {
      "text/plain": [
       "array([[1., 0.],\n",
       "       [0., 1.],\n",
       "       [0., 1.],\n",
       "       ...,\n",
       "       [1., 0.],\n",
       "       [1., 0.],\n",
       "       [1., 0.]], dtype=float32)"
      ]
     },
     "execution_count": 16,
     "metadata": {},
     "output_type": "execute_result"
    }
   ],
   "source": [
    "# Run this cell; no need to edit\n",
    "train_labels "
   ]
  },
  {
   "cell_type": "markdown",
   "metadata": {},
   "source": [
    "Looking at this, it's clear that for each observation (or image), `train_labels` doesn't simply have an output of 1 or 0, but a pair - either `[0, 1]` or `[1, 0]`.\n",
    "\n",
    "Having this information, we still don't know which pair corresponds with `santa` versus `not_santa`. Luckily, this was stored using `keras.preprocessing_image`, and you can get more info using the command `train_generator.class_indices`."
   ]
  },
  {
   "cell_type": "code",
   "execution_count": 17,
   "metadata": {
    "ExecuteTime": {
     "end_time": "2020-05-20T02:14:15.806168Z",
     "start_time": "2020-05-20T02:14:15.803089Z"
    }
   },
   "outputs": [
    {
     "data": {
      "text/plain": [
       "{'not_santa': 0, 'santa': 1}"
      ]
     },
     "execution_count": 17,
     "metadata": {},
     "output_type": "execute_result"
    }
   ],
   "source": [
    "# Run this cell; no need to edit\n",
    "train_generator.class_indices "
   ]
  },
  {
   "cell_type": "markdown",
   "metadata": {},
   "source": [
    "Index 0 (the first column) represents `not_santa`, index 1 represents `santa`. Select one of the two columns and transpose the result such that you get $1$ x $l$ and $1$ x $m$ vectors respectively, and value `1` represents `santa`. "
   ]
  },
  {
   "cell_type": "code",
   "execution_count": 18,
   "metadata": {
    "ExecuteTime": {
     "end_time": "2020-05-20T02:14:15.810690Z",
     "start_time": "2020-05-20T02:14:15.807498Z"
    }
   },
   "outputs": [
    {
     "data": {
      "text/plain": [
       "(790,)"
      ]
     },
     "execution_count": 18,
     "metadata": {},
     "output_type": "execute_result"
    }
   ],
   "source": [
    "train_labels.T[1].shape"
   ]
  },
  {
   "cell_type": "code",
   "execution_count": 19,
   "metadata": {
    "ExecuteTime": {
     "end_time": "2020-05-20T02:14:15.814383Z",
     "start_time": "2020-05-20T02:14:15.812058Z"
    }
   },
   "outputs": [],
   "source": [
    "train_labels_final = train_labels.T[[1]]#train_labels[:,1].reshape(1,-1)"
   ]
  },
  {
   "cell_type": "code",
   "execution_count": 20,
   "metadata": {
    "ExecuteTime": {
     "end_time": "2020-05-20T02:14:15.819139Z",
     "start_time": "2020-05-20T02:14:15.815775Z"
    }
   },
   "outputs": [
    {
     "data": {
      "text/plain": [
       "(1, 790)"
      ]
     },
     "execution_count": 20,
     "metadata": {},
     "output_type": "execute_result"
    }
   ],
   "source": [
    "train_labels_final.shape"
   ]
  },
  {
   "cell_type": "code",
   "execution_count": 21,
   "metadata": {
    "ExecuteTime": {
     "end_time": "2020-05-20T02:14:15.823794Z",
     "start_time": "2020-05-20T02:14:15.820472Z"
    }
   },
   "outputs": [
    {
     "data": {
      "text/plain": [
       "(790,)"
      ]
     },
     "execution_count": 21,
     "metadata": {},
     "output_type": "execute_result"
    }
   ],
   "source": [
    "train_labels_final[0].shape"
   ]
  },
  {
   "cell_type": "code",
   "execution_count": 22,
   "metadata": {
    "ExecuteTime": {
     "end_time": "2020-05-20T02:14:15.828647Z",
     "start_time": "2020-05-20T02:14:15.825253Z"
    }
   },
   "outputs": [
    {
     "data": {
      "text/plain": [
       "array([1.], dtype=float32)"
      ]
     },
     "execution_count": 22,
     "metadata": {},
     "output_type": "execute_result"
    }
   ],
   "source": [
    "train_labels_final[:,10]"
   ]
  },
  {
   "cell_type": "code",
   "execution_count": 23,
   "metadata": {
    "ExecuteTime": {
     "end_time": "2020-05-20T02:14:15.831971Z",
     "start_time": "2020-05-20T02:14:15.829929Z"
    }
   },
   "outputs": [],
   "source": [
    "# # Your code here\n",
    "# train_labels_final = None"
   ]
  },
  {
   "cell_type": "code",
   "execution_count": 24,
   "metadata": {
    "ExecuteTime": {
     "end_time": "2020-05-20T02:14:15.836775Z",
     "start_time": "2020-05-20T02:14:15.835038Z"
    }
   },
   "outputs": [],
   "source": [
    "# # Run this cell; no need to edit\n",
    "# np.shape(train_labels_final) "
   ]
  },
  {
   "cell_type": "code",
   "execution_count": 25,
   "metadata": {
    "ExecuteTime": {
     "end_time": "2020-05-20T02:14:15.840761Z",
     "start_time": "2020-05-20T02:14:15.838537Z"
    }
   },
   "outputs": [],
   "source": [
    "# Your code here\n",
    "test_labels_final =test_labels.T[[1]]#.shape #test_labels[:,1].reshape(1,-1)"
   ]
  },
  {
   "cell_type": "code",
   "execution_count": 26,
   "metadata": {
    "ExecuteTime": {
     "end_time": "2020-05-20T02:14:15.845192Z",
     "start_time": "2020-05-20T02:14:15.842022Z"
    }
   },
   "outputs": [
    {
     "data": {
      "text/plain": [
       "(1, 132)"
      ]
     },
     "execution_count": 26,
     "metadata": {},
     "output_type": "execute_result"
    }
   ],
   "source": [
    "# Run this cell; no need to edit\n",
    "np.shape(test_labels_final) "
   ]
  },
  {
   "cell_type": "markdown",
   "metadata": {},
   "source": [
    "As a final sanity check, look at an image and the corresponding label, so we're sure that santa is indeed stored as 1.\n",
    "\n",
    "- First, use `array_to_image()` again on the original `train_images` with index 240 to look at this particular image \n",
    "- Use `train_labels_final` to get the 240th label "
   ]
  },
  {
   "cell_type": "code",
   "execution_count": 27,
   "metadata": {
    "ExecuteTime": {
     "end_time": "2020-05-20T02:14:15.850663Z",
     "start_time": "2020-05-20T02:14:15.846493Z"
    }
   },
   "outputs": [
    {
     "data": {
      "image/png": "[encoded data removed]",
      "text/plain": [
       "<PIL.Image.Image image mode=RGB size=64x64 at 0x10DF27320>"
      ]
     },
     "execution_count": 27,
     "metadata": {},
     "output_type": "execute_result"
    }
   ],
   "source": [
    "# Preview train image at index 240\n",
    "array_to_img(train_images[240])"
   ]
  },
  {
   "cell_type": "code",
   "execution_count": 28,
   "metadata": {
    "ExecuteTime": {
     "end_time": "2020-05-20T02:14:15.854882Z",
     "start_time": "2020-05-20T02:14:15.851853Z"
    }
   },
   "outputs": [
    {
     "data": {
      "text/plain": [
       "array([0.], dtype=float32)"
      ]
     },
     "execution_count": 28,
     "metadata": {},
     "output_type": "execute_result"
    }
   ],
   "source": [
    "# Preview train label at index 240\n",
    "train_labels_final[:,240]"
   ]
  },
  {
   "cell_type": "markdown",
   "metadata": {},
   "source": [
    "This seems to be correct! Feel free to try out other indices as well."
   ]
  },
  {
   "cell_type": "markdown",
   "metadata": {},
   "source": [
    "## Standardize the data"
   ]
  },
  {
   "cell_type": "markdown",
   "metadata": {},
   "source": [
    "Remember that each RGB pixel in an image takes a value between 0 and 255. In Deep Learning, it is very common to standardize and/or center your dataset. For images, a common thing that is done is to make sure each pixel value is between 0 and 1. This can be done by dividing the entire matrix by 255. Do this here for the `train_img_unrow` and `test_img_unrow`. "
   ]
  },
  {
   "cell_type": "code",
   "execution_count": 29,
   "metadata": {
    "ExecuteTime": {
     "end_time": "2020-05-20T02:14:15.883128Z",
     "start_time": "2020-05-20T02:14:15.856173Z"
    }
   },
   "outputs": [
    {
     "data": {
      "text/plain": [
       "numpy.ndarray"
      ]
     },
     "execution_count": 29,
     "metadata": {},
     "output_type": "execute_result"
    }
   ],
   "source": [
    "# Your code here \n",
    "train_img_final = train_img_unrow/255\n",
    "test_img_final = test_img_unrow/255\n",
    "\n",
    "type(test_img_unrow)"
   ]
  },
  {
   "cell_type": "markdown",
   "metadata": {},
   "source": [
    "## Build a logistic regression-based neural network"
   ]
  },
  {
   "cell_type": "markdown",
   "metadata": {},
   "source": [
    "## Math recap"
   ]
  },
  {
   "cell_type": "markdown",
   "metadata": {},
   "source": [
    "Now we can go ahead and build our own basic logistic regression-based neural network to distinguish images with Santa from images without Santa. You saw in the lesson that logistic regression can actually be represented as a very simple neural network.\n",
    "\n",
    "Remember that we defined that, for each $x^{(i)}$:\n",
    "\n",
    "\n",
    "$$ \\mathcal{L}(\\hat y ^{(i)}, y^{(i)}) =  - \\big( y^{(i)} \\log(\\hat y^{(i)}) + (1-y^{(i)} )  \\log(1-\\hat y^{(i)})\\big)$$\n",
    "\n",
    "$$\\hat{y}^{(i)} = \\sigma(z^{(i)}) = \\frac{1}{1 + e^{-(z^{(i)})}}$$ \n",
    "\n",
    "$$z^{(i)} = w^T x^{(i)} + b$$\n",
    "\n",
    "The cost function is then given by:\n",
    "$$J(w,b) = \\dfrac{1}{l}\\displaystyle\\sum^l_{i=1}\\mathcal{L}(\\hat y^{(i)}, y^{(i)})$$"
   ]
  },
  {
   "cell_type": "markdown",
   "metadata": {},
   "source": [
    "In the remainder of this lab, you'll do the following:\n",
    "\n",
    "   - Initialize the parameters of the model\n",
    "   - Perform forward propagation, and calculate the current loss\n",
    "   - Perform backward propagation (which is basically calculating the current gradient)\n",
    "   - Update the parameters (gradient descent)"
   ]
  },
  {
   "cell_type": "markdown",
   "metadata": {},
   "source": [
    "## Parameter initialization"
   ]
  },
  {
   "cell_type": "markdown",
   "metadata": {},
   "source": [
    "$w$ and $b$ are the unknown parameters to start with: \n",
    "- remember that $b$ is a scalar\n",
    "- $w$ however, is a vector of shape $n$ x $1$, with $n$ being `horizontal_pixel x vertical_pixel x 3`"
   ]
  },
  {
   "cell_type": "markdown",
   "metadata": {},
   "source": [
    "## Initialize $b$"
   ]
  },
  {
   "cell_type": "markdown",
   "metadata": {},
   "source": [
    " Initialize $b$ as a scalar with value 0."
   ]
  },
  {
   "cell_type": "code",
   "execution_count": 30,
   "metadata": {
    "ExecuteTime": {
     "end_time": "2020-05-20T02:14:15.886487Z",
     "start_time": "2020-05-20T02:14:15.884525Z"
    }
   },
   "outputs": [],
   "source": [
    "# Your code here\n",
    "b=0"
   ]
  },
  {
   "cell_type": "markdown",
   "metadata": {},
   "source": [
    "## Initialize $w$"
   ]
  },
  {
   "cell_type": "markdown",
   "metadata": {},
   "source": [
    "Define a function `init_w()`, with a parameter `n`. The function should return an array with zeros that has a shape $n$ x $1$."
   ]
  },
  {
   "cell_type": "code",
   "execution_count": 31,
   "metadata": {
    "ExecuteTime": {
     "end_time": "2020-05-20T02:14:15.890227Z",
     "start_time": "2020-05-20T02:14:15.887788Z"
    }
   },
   "outputs": [],
   "source": [
    "# Define your function\n",
    "def init_w(n):\n",
    "    return np.zeros((n,1))"
   ]
  },
  {
   "cell_type": "code",
   "execution_count": 32,
   "metadata": {
    "ExecuteTime": {
     "end_time": "2020-05-20T02:14:15.894633Z",
     "start_time": "2020-05-20T02:14:15.891539Z"
    }
   },
   "outputs": [
    {
     "data": {
      "text/plain": [
       "(12288, 790)"
      ]
     },
     "execution_count": 32,
     "metadata": {},
     "output_type": "execute_result"
    }
   ],
   "source": [
    "train_img_final.shape"
   ]
  },
  {
   "cell_type": "code",
   "execution_count": 33,
   "metadata": {
    "ExecuteTime": {
     "end_time": "2020-05-20T02:14:15.899461Z",
     "start_time": "2020-05-20T02:14:15.895980Z"
    }
   },
   "outputs": [
    {
     "data": {
      "text/plain": [
       "(790, 12288)"
      ]
     },
     "execution_count": 33,
     "metadata": {},
     "output_type": "execute_result"
    }
   ],
   "source": [
    "train_img_final.shape[1], 64*64*3"
   ]
  },
  {
   "cell_type": "code",
   "execution_count": 34,
   "metadata": {
    "ExecuteTime": {
     "end_time": "2020-05-20T02:14:15.904255Z",
     "start_time": "2020-05-20T02:14:15.900761Z"
    }
   },
   "outputs": [
    {
     "data": {
      "text/plain": [
       "(12288, 1)"
      ]
     },
     "execution_count": 34,
     "metadata": {},
     "output_type": "execute_result"
    }
   ],
   "source": [
    "# Call your function using appropriate parameters\n",
    "w = init_w(64*64*3)\n",
    "w.shape"
   ]
  },
  {
   "cell_type": "markdown",
   "metadata": {},
   "source": [
    "## Forward propagation"
   ]
  },
  {
   "cell_type": "markdown",
   "metadata": {},
   "source": [
    "In forward propagation, you:\n",
    "- get `x`\n",
    "- compute `y_hat`: \n",
    "\n",
    "$$ (\\hat y^{(1)}, \\hat y^{(2)}, \\ldots , \\hat y^{(l)})= \\sigma(w^T x + b) = \\Biggr(\\dfrac{1}{1+exp(w^T x^{(1)}+ b)},\\ldots, \\dfrac{1}{1+exp(w^T x^{(l)}+ b)}\\Biggr) $$\n",
    "- You calculate the `cost` function: $J(w,b) = -\\dfrac{1}{l}\\displaystyle\\sum_{i=1}^{l}y^{(i)}\\log(\\hat y^{(i)})+(1-y^{(i)})\\log(1-\\hat y^{(i)})$\n",
    "\n",
    "Here are the two formulas you will be using to compute the gradients. Don't be scared by the mathematics. The long formulas are just to show that this corresponds with what we derived in the lesson!\n",
    "\n",
    "$$ \\frac{dJ(w,b)}{dw} = \\displaystyle\\frac{1}{l}\\displaystyle\\sum^l_{i=1} \\frac{d\\mathcal{L}(\\hat y^{(i)}, y^{(i)})}{dw}= \\displaystyle\\frac{1}{l}\\displaystyle\\sum^l_{i=1} x^{(i)} dz^{(i)}  = \\displaystyle\\frac{1}{l}\\displaystyle\\sum^l_{i=1} x^{(i)}(\\hat y^{(i)}-y^{(i)})  = \\frac{1}{l}x(\\hat y-y)^T$$\n",
    "\n",
    "$$ \\frac{dJ(w,b)}{db} = \\displaystyle\\frac{1}{l}\\displaystyle\\sum^l_{i=1} \\frac{d\\mathcal{L}(\\hat y^{(i)}, y^{(i)})}{db}= \\displaystyle\\frac{1}{l}\\displaystyle\\sum^l_{i=1} dz^{(i)}  = \\displaystyle\\frac{1}{l}\\displaystyle\\sum^l_{i=1} (\\hat y^{(i)}-y^{(i)})$$"
   ]
  },
  {
   "cell_type": "code",
   "execution_count": 35,
   "metadata": {
    "ExecuteTime": {
     "end_time": "2020-05-20T02:14:15.908809Z",
     "start_time": "2020-05-20T02:14:15.905527Z"
    }
   },
   "outputs": [
    {
     "data": {
      "text/plain": [
       "(12288, 790)"
      ]
     },
     "execution_count": 35,
     "metadata": {},
     "output_type": "execute_result"
    }
   ],
   "source": [
    "train_img_final.shape"
   ]
  },
  {
   "cell_type": "code",
   "execution_count": 36,
   "metadata": {
    "ExecuteTime": {
     "end_time": "2020-05-20T02:14:15.913607Z",
     "start_time": "2020-05-20T02:14:15.910158Z"
    }
   },
   "outputs": [
    {
     "data": {
      "text/plain": [
       "(12288, 1)"
      ]
     },
     "execution_count": 36,
     "metadata": {},
     "output_type": "execute_result"
    }
   ],
   "source": [
    "w.shape"
   ]
  },
  {
   "cell_type": "code",
   "execution_count": 37,
   "metadata": {
    "ExecuteTime": {
     "end_time": "2020-05-20T02:14:15.918221Z",
     "start_time": "2020-05-20T02:14:15.914934Z"
    }
   },
   "outputs": [
    {
     "data": {
      "text/plain": [
       "(12288, 790)"
      ]
     },
     "execution_count": 37,
     "metadata": {},
     "output_type": "execute_result"
    }
   ],
   "source": [
    "train_img_final.shape"
   ]
  },
  {
   "cell_type": "code",
   "execution_count": 38,
   "metadata": {
    "ExecuteTime": {
     "end_time": "2020-05-20T02:14:15.922723Z",
     "start_time": "2020-05-20T02:14:15.919572Z"
    }
   },
   "outputs": [
    {
     "data": {
      "text/plain": [
       "(790,)"
      ]
     },
     "execution_count": 38,
     "metadata": {},
     "output_type": "execute_result"
    }
   ],
   "source": [
    "train_img_final[0].shape# * w"
   ]
  },
  {
   "cell_type": "code",
   "execution_count": 39,
   "metadata": {
    "ExecuteTime": {
     "end_time": "2020-05-20T02:14:15.927468Z",
     "start_time": "2020-05-20T02:14:15.924148Z"
    }
   },
   "outputs": [
    {
     "data": {
      "text/plain": [
       "((12288, 1), (12288, 790))"
      ]
     },
     "execution_count": 39,
     "metadata": {},
     "output_type": "execute_result"
    }
   ],
   "source": [
    "w.shape, train_img_final.shape"
   ]
  },
  {
   "cell_type": "code",
   "execution_count": 40,
   "metadata": {
    "ExecuteTime": {
     "end_time": "2020-05-20T02:14:15.930661Z",
     "start_time": "2020-05-20T02:14:15.928673Z"
    }
   },
   "outputs": [],
   "source": [
    "x = train_img_final"
   ]
  },
  {
   "cell_type": "markdown",
   "metadata": {},
   "source": [
    "$$ (\\hat y^{(1)}, \\hat y^{(2)}, \\ldots , \\hat y^{(l)})= \\sigma(w^T x + b) = \\Biggr(\\dfrac{1}{1+exp(w^T x^{(1)}+ b)},\\ldots, \\dfrac{1}{1+exp(w^T x^{(l)}+ b)}\\Biggr) $$\n"
   ]
  },
  {
   "cell_type": "code",
   "execution_count": 57,
   "metadata": {
    "ExecuteTime": {
     "end_time": "2020-05-20T02:18:43.686999Z",
     "start_time": "2020-05-20T02:18:43.662999Z"
    }
   },
   "outputs": [],
   "source": [
    "my_y_hat = 1/(1+np.exp(-(np.dot(w.T,x)+b)))\n",
    "# my_y_hat"
   ]
  },
  {
   "cell_type": "code",
   "execution_count": 59,
   "metadata": {
    "ExecuteTime": {
     "end_time": "2020-05-20T02:18:47.358804Z",
     "start_time": "2020-05-20T02:18:47.335175Z"
    }
   },
   "outputs": [],
   "source": [
    "y_hat_soln = 1/(1 + np.exp(- (np.dot(w.T, x) + b)))    \n",
    "# y_hat_soln"
   ]
  },
  {
   "cell_type": "code",
   "execution_count": 43,
   "metadata": {
    "ExecuteTime": {
     "end_time": "2020-05-20T02:14:16.029737Z",
     "start_time": "2020-05-20T02:14:16.025871Z"
    }
   },
   "outputs": [
    {
     "data": {
      "text/plain": [
       "((1, 790), (1, 790))"
      ]
     },
     "execution_count": 43,
     "metadata": {},
     "output_type": "execute_result"
    }
   ],
   "source": [
    "my_y_hat.shape,y_hat_soln.shape"
   ]
  },
  {
   "cell_type": "code",
   "execution_count": 44,
   "metadata": {
    "ExecuteTime": {
     "end_time": "2020-05-20T02:14:16.035485Z",
     "start_time": "2020-05-20T02:14:16.031465Z"
    }
   },
   "outputs": [
    {
     "data": {
      "text/plain": [
       "790"
      ]
     },
     "execution_count": 44,
     "metadata": {},
     "output_type": "execute_result"
    }
   ],
   "source": [
    "(y_hat_soln == my_y_hat).sum()"
   ]
  },
  {
   "cell_type": "markdown",
   "metadata": {},
   "source": [
    "- You calculate the `cost` function: $J(w,b) = -\\dfrac{1}{l}\\displaystyle\\sum_{i=1}^{l}y^{(i)}\\log(\\hat y^{(i)})+(1-y^{(i)})\\log(1-\\hat y^{(i)})$"
   ]
  },
  {
   "cell_type": "code",
   "execution_count": 45,
   "metadata": {
    "ExecuteTime": {
     "end_time": "2020-05-20T02:14:16.061893Z",
     "start_time": "2020-05-20T02:14:16.037245Z"
    }
   },
   "outputs": [],
   "source": [
    "x = train_img_final\n",
    "l = x.shape[1]\n",
    "\n",
    "y = train_labels_final\n",
    "y_hat = 1/(1+np.exp(w.T.dot(x)+b)) #my_y_hat"
   ]
  },
  {
   "cell_type": "code",
   "execution_count": null,
   "metadata": {
    "ExecuteTime": {
     "end_time": "2020-05-20T01:42:20.608153Z",
     "start_time": "2020-05-20T01:42:20.598316Z"
    }
   },
   "outputs": [],
   "source": []
  },
  {
   "cell_type": "code",
   "execution_count": 46,
   "metadata": {
    "ExecuteTime": {
     "end_time": "2020-05-20T02:14:16.068186Z",
     "start_time": "2020-05-20T02:14:16.063744Z"
    }
   },
   "outputs": [
    {
     "data": {
      "text/plain": [
       "((1, 790), (1, 790))"
      ]
     },
     "execution_count": 46,
     "metadata": {},
     "output_type": "execute_result"
    }
   ],
   "source": [
    "np.log(y_hat).shape, y.shape"
   ]
  },
  {
   "cell_type": "code",
   "execution_count": 47,
   "metadata": {
    "ExecuteTime": {
     "end_time": "2020-05-20T02:14:16.081958Z",
     "start_time": "2020-05-20T02:14:16.069940Z"
    }
   },
   "outputs": [
    {
     "data": {
      "text/plain": [
       "array([[-0.        , -0.69314718, -0.69314718, -0.        , -0.        ,\n",
       "        -0.        , -0.        , -0.        , -0.69314718, -0.69314718,\n",
       "        -0.69314718, -0.        , -0.69314718, -0.        , -0.        ,\n",
       "        -0.        , -0.        , -0.        , -0.69314718, -0.        ,\n",
       "        -0.        , -0.69314718, -0.69314718, -0.        , -0.        ,\n",
       "        -0.69314718, -0.        , -0.        , -0.        , -0.69314718,\n",
       "        -0.69314718, -0.69314718, -0.        , -0.69314718, -0.        ,\n",
       "        -0.69314718, -0.        , -0.69314718, -0.        , -0.        ,\n",
       "        -0.69314718, -0.        , -0.69314718, -0.        , -0.        ,\n",
       "        -0.        , -0.        , -0.69314718, -0.69314718, -0.        ,\n",
       "        -0.        , -0.        , -0.        , -0.69314718, -0.69314718,\n",
       "        -0.        , -0.        , -0.69314718, -0.69314718, -0.        ,\n",
       "        -0.        , -0.        , -0.69314718, -0.69314718, -0.        ,\n",
       "        -0.69314718, -0.69314718, -0.69314718, -0.69314718, -0.        ,\n",
       "        -0.        , -0.        , -0.        , -0.69314718, -0.        ,\n",
       "        -0.69314718, -0.69314718, -0.69314718, -0.69314718, -0.69314718,\n",
       "        -0.        , -0.        , -0.        , -0.69314718, -0.        ,\n",
       "        -0.        , -0.69314718, -0.        , -0.        , -0.69314718,\n",
       "        -0.69314718, -0.69314718, -0.        , -0.69314718, -0.        ,\n",
       "        -0.69314718, -0.69314718, -0.        , -0.        , -0.69314718,\n",
       "        -0.        , -0.        , -0.        , -0.69314718, -0.69314718,\n",
       "        -0.69314718, -0.        , -0.69314718, -0.        , -0.        ,\n",
       "        -0.        , -0.        , -0.69314718, -0.69314718, -0.        ,\n",
       "        -0.69314718, -0.69314718, -0.69314718, -0.        , -0.69314718,\n",
       "        -0.        , -0.69314718, -0.69314718, -0.69314718, -0.        ,\n",
       "        -0.        , -0.69314718, -0.69314718, -0.        , -0.69314718,\n",
       "        -0.        , -0.        , -0.69314718, -0.69314718, -0.69314718,\n",
       "        -0.        , -0.69314718, -0.        , -0.        , -0.69314718,\n",
       "        -0.        , -0.69314718, -0.69314718, -0.69314718, -0.        ,\n",
       "        -0.69314718, -0.        , -0.        , -0.69314718, -0.        ,\n",
       "        -0.69314718, -0.        , -0.69314718, -0.69314718, -0.        ,\n",
       "        -0.        , -0.69314718, -0.        , -0.69314718, -0.        ,\n",
       "        -0.69314718, -0.69314718, -0.        , -0.69314718, -0.69314718,\n",
       "        -0.69314718, -0.69314718, -0.69314718, -0.69314718, -0.        ,\n",
       "        -0.69314718, -0.        , -0.        , -0.        , -0.        ,\n",
       "        -0.69314718, -0.69314718, -0.69314718, -0.        , -0.69314718,\n",
       "        -0.69314718, -0.69314718, -0.69314718, -0.        , -0.69314718,\n",
       "        -0.69314718, -0.        , -0.        , -0.        , -0.69314718,\n",
       "        -0.        , -0.        , -0.        , -0.        , -0.        ,\n",
       "        -0.        , -0.69314718, -0.69314718, -0.        , -0.69314718,\n",
       "        -0.        , -0.        , -0.        , -0.69314718, -0.69314718,\n",
       "        -0.69314718, -0.69314718, -0.69314718, -0.        , -0.        ,\n",
       "        -0.69314718, -0.        , -0.69314718, -0.69314718, -0.69314718,\n",
       "        -0.        , -0.69314718, -0.69314718, -0.69314718, -0.69314718,\n",
       "        -0.        , -0.69314718, -0.69314718, -0.69314718, -0.        ,\n",
       "        -0.        , -0.69314718, -0.        , -0.        , -0.        ,\n",
       "        -0.69314718, -0.        , -0.        , -0.        , -0.        ,\n",
       "        -0.        , -0.69314718, -0.        , -0.        , -0.        ,\n",
       "        -0.        , -0.69314718, -0.69314718, -0.        , -0.69314718,\n",
       "        -0.        , -0.69314718, -0.69314718, -0.        , -0.69314718,\n",
       "        -0.69314718, -0.        , -0.69314718, -0.69314718, -0.        ,\n",
       "        -0.69314718, -0.        , -0.69314718, -0.        , -0.        ,\n",
       "        -0.        , -0.        , -0.69314718, -0.        , -0.69314718,\n",
       "        -0.69314718, -0.        , -0.        , -0.        , -0.        ,\n",
       "        -0.        , -0.69314718, -0.        , -0.        , -0.        ,\n",
       "        -0.69314718, -0.69314718, -0.69314718, -0.        , -0.69314718,\n",
       "        -0.        , -0.        , -0.        , -0.        , -0.        ,\n",
       "        -0.69314718, -0.        , -0.69314718, -0.        , -0.        ,\n",
       "        -0.        , -0.69314718, -0.69314718, -0.        , -0.        ,\n",
       "        -0.        , -0.        , -0.69314718, -0.69314718, -0.69314718,\n",
       "        -0.        , -0.69314718, -0.        , -0.69314718, -0.        ,\n",
       "        -0.69314718, -0.        , -0.69314718, -0.69314718, -0.69314718,\n",
       "        -0.69314718, -0.        , -0.69314718, -0.69314718, -0.69314718,\n",
       "        -0.        , -0.69314718, -0.69314718, -0.69314718, -0.69314718,\n",
       "        -0.69314718, -0.69314718, -0.        , -0.69314718, -0.        ,\n",
       "        -0.        , -0.        , -0.69314718, -0.        , -0.        ,\n",
       "        -0.        , -0.69314718, -0.69314718, -0.        , -0.        ,\n",
       "        -0.        , -0.        , -0.69314718, -0.        , -0.69314718,\n",
       "        -0.69314718, -0.69314718, -0.69314718, -0.69314718, -0.        ,\n",
       "        -0.69314718, -0.69314718, -0.        , -0.69314718, -0.        ,\n",
       "        -0.        , -0.69314718, -0.        , -0.        , -0.69314718,\n",
       "        -0.        , -0.69314718, -0.69314718, -0.        , -0.        ,\n",
       "        -0.69314718, -0.69314718, -0.        , -0.        , -0.69314718,\n",
       "        -0.69314718, -0.69314718, -0.69314718, -0.        , -0.69314718,\n",
       "        -0.        , -0.        , -0.        , -0.        , -0.        ,\n",
       "        -0.69314718, -0.        , -0.        , -0.69314718, -0.69314718,\n",
       "        -0.        , -0.        , -0.69314718, -0.        , -0.69314718,\n",
       "        -0.69314718, -0.69314718, -0.        , -0.        , -0.        ,\n",
       "        -0.69314718, -0.69314718, -0.69314718, -0.69314718, -0.69314718,\n",
       "        -0.69314718, -0.69314718, -0.69314718, -0.        , -0.        ,\n",
       "        -0.69314718, -0.        , -0.        , -0.        , -0.69314718,\n",
       "        -0.69314718, -0.69314718, -0.69314718, -0.69314718, -0.69314718,\n",
       "        -0.69314718, -0.69314718, -0.        , -0.69314718, -0.69314718,\n",
       "        -0.69314718, -0.        , -0.        , -0.69314718, -0.        ,\n",
       "        -0.69314718, -0.        , -0.69314718, -0.69314718, -0.69314718,\n",
       "        -0.69314718, -0.        , -0.        , -0.        , -0.69314718,\n",
       "        -0.        , -0.69314718, -0.69314718, -0.69314718, -0.69314718,\n",
       "        -0.        , -0.69314718, -0.69314718, -0.69314718, -0.69314718,\n",
       "        -0.69314718, -0.        , -0.        , -0.69314718, -0.        ,\n",
       "        -0.69314718, -0.        , -0.        , -0.        , -0.69314718,\n",
       "        -0.69314718, -0.69314718, -0.69314718, -0.69314718, -0.        ,\n",
       "        -0.        , -0.        , -0.69314718, -0.69314718, -0.        ,\n",
       "        -0.69314718, -0.69314718, -0.        , -0.        , -0.        ,\n",
       "        -0.69314718, -0.        , -0.        , -0.        , -0.69314718,\n",
       "        -0.        , -0.        , -0.        , -0.        , -0.69314718,\n",
       "        -0.        , -0.69314718, -0.69314718, -0.        , -0.69314718,\n",
       "        -0.        , -0.        , -0.        , -0.69314718, -0.        ,\n",
       "        -0.        , -0.69314718, -0.69314718, -0.69314718, -0.69314718,\n",
       "        -0.69314718, -0.        , -0.        , -0.        , -0.69314718,\n",
       "        -0.69314718, -0.69314718, -0.69314718, -0.        , -0.69314718,\n",
       "        -0.        , -0.        , -0.        , -0.69314718, -0.69314718,\n",
       "        -0.        , -0.        , -0.        , -0.69314718, -0.69314718,\n",
       "        -0.69314718, -0.69314718, -0.        , -0.        , -0.        ,\n",
       "        -0.        , -0.69314718, -0.69314718, -0.69314718, -0.        ,\n",
       "        -0.69314718, -0.69314718, -0.69314718, -0.69314718, -0.        ,\n",
       "        -0.69314718, -0.69314718, -0.69314718, -0.69314718, -0.        ,\n",
       "        -0.69314718, -0.        , -0.69314718, -0.69314718, -0.        ,\n",
       "        -0.        , -0.69314718, -0.        , -0.69314718, -0.        ,\n",
       "        -0.        , -0.        , -0.        , -0.69314718, -0.        ,\n",
       "        -0.69314718, -0.        , -0.69314718, -0.        , -0.        ,\n",
       "        -0.69314718, -0.69314718, -0.        , -0.        , -0.        ,\n",
       "        -0.69314718, -0.69314718, -0.        , -0.        , -0.        ,\n",
       "        -0.        , -0.69314718, -0.69314718, -0.69314718, -0.        ,\n",
       "        -0.        , -0.69314718, -0.69314718, -0.        , -0.69314718,\n",
       "        -0.69314718, -0.69314718, -0.        , -0.69314718, -0.69314718,\n",
       "        -0.        , -0.        , -0.        , -0.69314718, -0.        ,\n",
       "        -0.69314718, -0.        , -0.        , -0.        , -0.69314718,\n",
       "        -0.69314718, -0.        , -0.69314718, -0.        , -0.        ,\n",
       "        -0.        , -0.69314718, -0.        , -0.        , -0.        ,\n",
       "        -0.69314718, -0.69314718, -0.69314718, -0.69314718, -0.69314718,\n",
       "        -0.        , -0.69314718, -0.        , -0.        , -0.69314718,\n",
       "        -0.69314718, -0.69314718, -0.        , -0.69314718, -0.69314718,\n",
       "        -0.69314718, -0.        , -0.        , -0.69314718, -0.69314718,\n",
       "        -0.        , -0.        , -0.        , -0.        , -0.        ,\n",
       "        -0.        , -0.        , -0.        , -0.69314718, -0.69314718,\n",
       "        -0.69314718, -0.        , -0.        , -0.69314718, -0.        ,\n",
       "        -0.        , -0.69314718, -0.        , -0.69314718, -0.69314718,\n",
       "        -0.        , -0.69314718, -0.        , -0.        , -0.69314718,\n",
       "        -0.69314718, -0.        , -0.        , -0.        , -0.        ,\n",
       "        -0.69314718, -0.69314718, -0.69314718, -0.        , -0.        ,\n",
       "        -0.69314718, -0.69314718, -0.69314718, -0.69314718, -0.69314718,\n",
       "        -0.69314718, -0.        , -0.69314718, -0.69314718, -0.69314718,\n",
       "        -0.69314718, -0.69314718, -0.69314718, -0.69314718, -0.69314718,\n",
       "        -0.        , -0.        , -0.        , -0.69314718, -0.        ,\n",
       "        -0.69314718, -0.        , -0.        , -0.69314718, -0.        ,\n",
       "        -0.        , -0.        , -0.        , -0.69314718, -0.69314718,\n",
       "        -0.69314718, -0.69314718, -0.69314718, -0.        , -0.        ,\n",
       "        -0.        , -0.        , -0.        , -0.        , -0.        ,\n",
       "        -0.        , -0.69314718, -0.69314718, -0.        , -0.        ,\n",
       "        -0.        , -0.69314718, -0.69314718, -0.69314718, -0.        ,\n",
       "        -0.        , -0.        , -0.69314718, -0.        , -0.69314718,\n",
       "        -0.69314718, -0.69314718, -0.69314718, -0.69314718, -0.        ,\n",
       "        -0.69314718, -0.69314718, -0.        , -0.69314718, -0.        ,\n",
       "        -0.        , -0.        , -0.69314718, -0.69314718, -0.        ,\n",
       "        -0.69314718, -0.69314718, -0.69314718, -0.69314718, -0.69314718,\n",
       "        -0.69314718, -0.69314718, -0.        , -0.69314718, -0.        ,\n",
       "        -0.        , -0.        , -0.        , -0.        , -0.        ,\n",
       "        -0.69314718, -0.69314718, -0.69314718, -0.69314718, -0.69314718,\n",
       "        -0.69314718, -0.        , -0.69314718, -0.69314718, -0.        ,\n",
       "        -0.69314718, -0.        , -0.69314718, -0.69314718, -0.        ,\n",
       "        -0.        , -0.69314718, -0.69314718, -0.69314718, -0.        ,\n",
       "        -0.69314718, -0.        , -0.69314718, -0.        , -0.        ,\n",
       "        -0.69314718, -0.        , -0.69314718, -0.        , -0.69314718,\n",
       "        -0.        , -0.69314718, -0.69314718, -0.        , -0.69314718,\n",
       "        -0.69314718, -0.69314718, -0.        , -0.        , -0.69314718,\n",
       "        -0.        , -0.69314718, -0.69314718, -0.69314718, -0.        ,\n",
       "        -0.        , -0.69314718, -0.69314718, -0.        , -0.69314718,\n",
       "        -0.69314718, -0.        , -0.        , -0.        , -0.        ]])"
      ]
     },
     "execution_count": 47,
     "metadata": {},
     "output_type": "execute_result"
    }
   ],
   "source": [
    "y*np.log(y_hat)"
   ]
  },
  {
   "cell_type": "code",
   "execution_count": 48,
   "metadata": {
    "ExecuteTime": {
     "end_time": "2020-05-20T02:14:16.086942Z",
     "start_time": "2020-05-20T02:14:16.083589Z"
    }
   },
   "outputs": [],
   "source": [
    "cost = -(1/l) * np.sum(y*np.log(y_hat) + (1-y)*np.log(1-y_hat))"
   ]
  },
  {
   "cell_type": "markdown",
   "metadata": {},
   "source": [
    "\n",
    "$$ \\frac{dJ(w,b)}{dw} = \\displaystyle\\frac{1}{l}\\displaystyle\\sum^l_{i=1} \\frac{d\\mathcal{L}(\\hat y^{(i)}, y^{(i)})}{dw}= \\displaystyle\\frac{1}{l}\\displaystyle\\sum^l_{i=1} x^{(i)} dz^{(i)}  = \\displaystyle\\frac{1}{l}\\displaystyle\\sum^l_{i=1} x^{(i)}(\\hat y^{(i)}-y^{(i)})  = \\frac{1}{l}x(\\hat y-y)^T$$\n",
    "\n",
    "$$ \\frac{dJ(w,b)}{db} = \\displaystyle\\frac{1}{l}\\displaystyle\\sum^l_{i=1} \\frac{d\\mathcal{L}(\\hat y^{(i)}, y^{(i)})}{db}= \\displaystyle\\frac{1}{l}\\displaystyle\\sum^l_{i=1} dz^{(i)}  = \\displaystyle\\frac{1}{l}\\displaystyle\\sum^l_{i=1} (\\hat y^{(i)}-y^{(i)})$$"
   ]
  },
  {
   "cell_type": "code",
   "execution_count": 49,
   "metadata": {
    "ExecuteTime": {
     "end_time": "2020-05-20T02:14:16.141219Z",
     "start_time": "2020-05-20T02:14:16.088613Z"
    }
   },
   "outputs": [
    {
     "data": {
      "text/plain": [
       "array([[ 5.46041206e-04,  4.54207010e-04,  3.82228856e-04, ...,\n",
       "         2.45718545e-04,  1.58848359e-04,  1.04244233e-04],\n",
       "       [-9.92802243e-06,  0.00000000e+00,  0.00000000e+00, ...,\n",
       "        -6.32911392e-04, -6.32911392e-04, -6.32911392e-04],\n",
       "       [-6.32911392e-04, -6.32911392e-04, -6.32911392e-04, ...,\n",
       "        -6.32911392e-04, -6.32911392e-04, -6.32911392e-04],\n",
       "       ...,\n",
       "       [ 5.95681322e-05,  3.97120897e-05,  3.22660714e-05, ...,\n",
       "         1.81186407e-04,  8.93522007e-05,  6.70141482e-05],\n",
       "       [ 1.96078439e-04,  2.01042449e-04,  1.46438323e-04, ...,\n",
       "         3.94638882e-04,  3.74782840e-04,  3.69818829e-04],\n",
       "       [ 4.19458936e-04,  3.07768678e-04,  2.03524454e-04, ...,\n",
       "         4.26904951e-04,  4.29386957e-04,  4.81509068e-04]])"
      ]
     },
     "execution_count": 49,
     "metadata": {},
     "output_type": "execute_result"
    }
   ],
   "source": [
    "dw = (1/l)*(x *(y_hat-y)).T\n",
    "dw"
   ]
  },
  {
   "cell_type": "code",
   "execution_count": 50,
   "metadata": {
    "ExecuteTime": {
     "end_time": "2020-05-20T02:14:16.167646Z",
     "start_time": "2020-05-20T02:14:16.142810Z"
    }
   },
   "outputs": [
    {
     "data": {
      "text/plain": [
       "array([[-0.05784065],\n",
       "       [-0.05436336],\n",
       "       [-0.06367089],\n",
       "       ...,\n",
       "       [-0.07482998],\n",
       "       [-0.06692231],\n",
       "       [-0.07262596]])"
      ]
     },
     "execution_count": 50,
     "metadata": {},
     "output_type": "execute_result"
    }
   ],
   "source": [
    "dw = (1/l) * np.dot(x,(y_hat - y).T)\n",
    "dw"
   ]
  },
  {
   "cell_type": "code",
   "execution_count": 68,
   "metadata": {
    "ExecuteTime": {
     "end_time": "2020-05-20T02:19:42.561308Z",
     "start_time": "2020-05-20T02:19:42.556354Z"
    }
   },
   "outputs": [],
   "source": [
    "# Define the propagation function\n",
    "w = init_w(64*64*3)\n",
    "b = 0\n",
    "def propagation(w,b,x,y):\n",
    "    l = x.shape[1]\n",
    "    y_hat = 1/(1+np.exp(-(np.dot(w.T,x)+b)))\n",
    "    \n",
    "    cost = -(1/l) * np.sum(y*np.log(y_hat) + (1-y)*np.log(1-y_hat))\n",
    "    \n",
    "    dw = (1/l) * np.dot(x,(y_hat - y).T)\n",
    "    db = (1/l) * np.sum(y_hat-y)\n",
    "    return dw,db,cost"
   ]
  },
  {
   "cell_type": "code",
   "execution_count": 69,
   "metadata": {
    "ExecuteTime": {
     "end_time": "2020-05-20T02:19:43.022493Z",
     "start_time": "2020-05-20T02:19:42.975365Z"
    }
   },
   "outputs": [],
   "source": [
    "# Use the propogation function\n",
    "dw, db, cost = propagation(w,b,train_img_final,train_labels_final)"
   ]
  },
  {
   "cell_type": "code",
   "execution_count": 70,
   "metadata": {
    "ExecuteTime": {
     "end_time": "2020-05-20T02:19:43.806023Z",
     "start_time": "2020-05-20T02:19:43.802509Z"
    }
   },
   "outputs": [
    {
     "name": "stdout",
     "output_type": "stream",
     "text": [
      "[[-0.05784065]\n",
      " [-0.05436336]\n",
      " [-0.06367089]\n",
      " ...\n",
      " [-0.07482998]\n",
      " [-0.06692231]\n",
      " [-0.07262596]]\n",
      "-0.01139240506329114\n",
      "0.6931471805599452\n"
     ]
    }
   ],
   "source": [
    "print(dw)\n",
    "\n",
    "print(db)\n",
    "\n",
    "print(cost)"
   ]
  },
  {
   "cell_type": "markdown",
   "metadata": {},
   "source": [
    "## Optimization"
   ]
  },
  {
   "cell_type": "markdown",
   "metadata": {},
   "source": [
    "Next, in the optimization step, we have to update $w$ and $b$ as follows:\n",
    "\n",
    "$$w := w - \\alpha * dw$$\n",
    "$$b := b - \\alpha * db$$\n",
    "\n",
    "Note that this `optimization()` function uses the `propagation()` function. It loops over the `propagation()` function in each iteration, and updates both $w$ and $b$ right after that! "
   ]
  },
  {
   "cell_type": "code",
   "execution_count": 71,
   "metadata": {
    "ExecuteTime": {
     "end_time": "2020-05-20T02:19:45.145173Z",
     "start_time": "2020-05-20T02:19:45.140073Z"
    }
   },
   "outputs": [],
   "source": [
    "# Complete the function below using your propagation function to define dw, db and cost \n",
    "# Then use the formula above to update w and b in the optimization function \n",
    "b= 0 \n",
    "w =  init_w(64*64*3)\n",
    "\n",
    "def optimization(w, b, x, y, num_iterations, learning_rate, print_cost = False):\n",
    "    \n",
    "    costs = []\n",
    "    \n",
    "    for i in range(num_iterations):\n",
    "        dw, db,cost = propagation(w,b,x,y)\n",
    "        w = w - learning_rate*dw\n",
    "        b = b - learning_rate*db\n",
    "        \n",
    "        # Record the costs and print them every 50 iterations\n",
    "        if i % 50 == 0:\n",
    "            costs.append(cost)\n",
    "        if print_cost and i % 50 == 0:\n",
    "            print (\"Cost after iteration %i: %f\" %(i, cost))\n",
    "    \n",
    "    return w, b, costs"
   ]
  },
  {
   "cell_type": "code",
   "execution_count": 72,
   "metadata": {
    "ExecuteTime": {
     "end_time": "2020-05-20T02:19:51.524434Z",
     "start_time": "2020-05-20T02:19:45.585751Z"
    }
   },
   "outputs": [
    {
     "name": "stdout",
     "output_type": "stream",
     "text": [
      "Cost after iteration 0: 0.693147\n",
      "Cost after iteration 50: 0.675005\n",
      "Cost after iteration 100: 0.668414\n",
      "Cost after iteration 150: 0.662114\n"
     ]
    }
   ],
   "source": [
    "# Run this block of code as is\n",
    "w, b, costs = optimization(w, b, train_img_final, train_labels_final, \n",
    "                           num_iterations= 151, learning_rate = 0.0001, print_cost = True)"
   ]
  },
  {
   "cell_type": "markdown",
   "metadata": {},
   "source": [
    "## Make label predictions: Santa or not?"
   ]
  },
  {
   "cell_type": "markdown",
   "metadata": {},
   "source": [
    "Next, let's create a function that makes label predictions. We'll later use this when we will look at our Santa pictures. What we want is a label that is equal to 1 when the predicted $y$ is bigger than 0.5, and 0 otherwise. "
   ]
  },
  {
   "cell_type": "code",
   "execution_count": 73,
   "metadata": {
    "ExecuteTime": {
     "end_time": "2020-05-20T02:21:16.373434Z",
     "start_time": "2020-05-20T02:21:16.368793Z"
    }
   },
   "outputs": [],
   "source": [
    "def prediction(w, b, x):\n",
    "    l = x.shape[1]\n",
    "    y_prediction = np.zeros((1,l))\n",
    "    w = w.reshape(x.shape[0], 1)\n",
    "    y_hat = 1/(1 + np.exp(- (np.dot(w.T, x) + b))) \n",
    "    p = y_hat\n",
    "    \n",
    "    for i in range(y_hat.shape[1]):\n",
    "        if y_hat[0,i] >0.5:\n",
    "            y_prediction[0,i]=1\n",
    "        else:\n",
    "            y_prediction[0,i]=0\n",
    "        # Transform the probability into a binary classification using 0.5 as the cutoff\n",
    "    return y_prediction"
   ]
  },
  {
   "cell_type": "markdown",
   "metadata": {},
   "source": [
    "Let's try this out on a small example. Make sure you have 4 predictions in your output here!"
   ]
  },
  {
   "cell_type": "code",
   "execution_count": 74,
   "metadata": {
    "ExecuteTime": {
     "end_time": "2020-05-20T02:21:17.611417Z",
     "start_time": "2020-05-20T02:21:17.606115Z"
    }
   },
   "outputs": [
    {
     "data": {
      "text/plain": [
       "array([[1., 1., 0., 0.]])"
      ]
     },
     "execution_count": 74,
     "metadata": {},
     "output_type": "execute_result"
    }
   ],
   "source": [
    "# Run this block of code as is\n",
    "w = np.array([[0.035], [0.123], [0.217]])\n",
    "b = 0.2\n",
    "x = np.array([[0.2, 0.4, -1.2, -2], \n",
    "              [1, -2., 0.1, -1], \n",
    "              [0.2, 0.4, -1.2, -2]])\n",
    "\n",
    "prediction(w, b, x)"
   ]
  },
  {
   "cell_type": "markdown",
   "metadata": {},
   "source": [
    "## The overall model"
   ]
  },
  {
   "cell_type": "markdown",
   "metadata": {},
   "source": [
    "Now, let's build the overall model!"
   ]
  },
  {
   "cell_type": "code",
   "execution_count": 75,
   "metadata": {
    "ExecuteTime": {
     "end_time": "2020-05-20T02:21:25.608016Z",
     "start_time": "2020-05-20T02:21:25.602065Z"
    }
   },
   "outputs": [],
   "source": [
    "# Review this code carefully\n",
    "def model(x_train, y_train, x_test, y_test, num_iterations = 2000, learning_rate = 0.5, print_cost = False):\n",
    "\n",
    "    b = 0\n",
    "    w = init_w(np.shape(x_train)[0]) \n",
    "\n",
    "    # Gradient descent (≈ 1 line of code)\n",
    "    w, b, costs = optimization(w, b, x_train, y_train, num_iterations, learning_rate, print_cost)\n",
    "    \n",
    "    y_pred_test = prediction(w, b, x_test)\n",
    "    y_pred_train = prediction(w, b, x_train)\n",
    "\n",
    "    # Print train/test errors\n",
    "    print('train accuracy: {} %'.format(100 - np.mean(np.abs(y_pred_train - y_train)) * 100))\n",
    "    print('test accuracy: {} %'.format(100 - np.mean(np.abs(y_pred_test - y_test)) * 100))\n",
    "\n",
    "    output = {'costs': costs, \n",
    "              'y_pred_test': y_pred_test,  \n",
    "              'y_pred_train' : y_pred_train,  \n",
    "              'w' : w, \n",
    "              'b' : b, \n",
    "              'learning_rate' : learning_rate, \n",
    "              'num_iterations': num_iterations}\n",
    "    \n",
    "    return output"
   ]
  },
  {
   "cell_type": "code",
   "execution_count": 77,
   "metadata": {
    "ExecuteTime": {
     "end_time": "2020-05-20T02:23:48.233180Z",
     "start_time": "2020-05-20T02:22:03.945864Z"
    }
   },
   "outputs": [
    {
     "name": "stdout",
     "output_type": "stream",
     "text": [
      "Cost after iteration 0: 0.693147\n",
      "Cost after iteration 50: 0.880402\n",
      "Cost after iteration 100: 0.763331\n",
      "Cost after iteration 150: 0.628797\n",
      "Cost after iteration 200: 0.518186\n",
      "Cost after iteration 250: 0.442320\n",
      "Cost after iteration 300: 0.391254\n",
      "Cost after iteration 350: 0.354488\n",
      "Cost after iteration 400: 0.326262\n",
      "Cost after iteration 450: 0.304070\n",
      "Cost after iteration 500: 0.287473\n",
      "Cost after iteration 550: 0.276690\n",
      "Cost after iteration 600: 0.269139\n",
      "Cost after iteration 650: 0.262364\n",
      "Cost after iteration 700: 0.255995\n",
      "Cost after iteration 750: 0.249976\n",
      "Cost after iteration 800: 0.244271\n",
      "Cost after iteration 850: 0.238848\n",
      "Cost after iteration 900: 0.233684\n",
      "Cost after iteration 950: 0.228756\n",
      "Cost after iteration 1000: 0.224046\n",
      "Cost after iteration 1050: 0.219537\n",
      "Cost after iteration 1100: 0.215215\n",
      "Cost after iteration 1150: 0.211066\n",
      "Cost after iteration 1200: 0.207080\n",
      "Cost after iteration 1250: 0.203246\n",
      "Cost after iteration 1300: 0.199553\n",
      "Cost after iteration 1350: 0.195995\n",
      "Cost after iteration 1400: 0.192562\n",
      "Cost after iteration 1450: 0.189248\n",
      "Cost after iteration 1500: 0.186047\n",
      "Cost after iteration 1550: 0.182951\n",
      "Cost after iteration 1600: 0.179957\n",
      "Cost after iteration 1650: 0.177057\n",
      "Cost after iteration 1700: 0.174249\n",
      "Cost after iteration 1750: 0.171527\n",
      "Cost after iteration 1800: 0.168887\n",
      "Cost after iteration 1850: 0.166326\n",
      "Cost after iteration 1900: 0.163839\n",
      "Cost after iteration 1950: 0.161424\n",
      "train accuracy: 96.9620253164557 %\n",
      "test accuracy: 75.0 %\n"
     ]
    }
   ],
   "source": [
    "# Run the model!\n",
    "# ⏰ Expect your code to take several minutes to run\n",
    "output = model(train_img_final, train_labels_final, test_img_final, test_labels_final,\n",
    "               num_iterations=2000, learning_rate=0.005, print_cost=True)"
   ]
  },
  {
   "cell_type": "code",
   "execution_count": 81,
   "metadata": {
    "ExecuteTime": {
     "end_time": "2020-05-20T02:24:26.259796Z",
     "start_time": "2020-05-20T02:24:26.256424Z"
    }
   },
   "outputs": [
    {
     "data": {
      "text/plain": [
       "(1, 132)"
      ]
     },
     "execution_count": 81,
     "metadata": {},
     "output_type": "execute_result"
    }
   ],
   "source": [
    "output['y_pred_test'].shape"
   ]
  },
  {
   "cell_type": "code",
   "execution_count": 84,
   "metadata": {
    "ExecuteTime": {
     "end_time": "2020-05-20T02:24:53.503612Z",
     "start_time": "2020-05-20T02:24:53.500238Z"
    }
   },
   "outputs": [
    {
     "data": {
      "text/plain": [
       "(1, 132)"
      ]
     },
     "execution_count": 84,
     "metadata": {},
     "output_type": "execute_result"
    }
   ],
   "source": [
    "test_labels_final.shape"
   ]
  },
  {
   "cell_type": "code",
   "execution_count": 85,
   "metadata": {
    "ExecuteTime": {
     "end_time": "2020-05-20T02:25:08.195561Z",
     "start_time": "2020-05-20T02:25:08.187962Z"
    }
   },
   "outputs": [
    {
     "name": "stdout",
     "output_type": "stream",
     "text": [
      "              precision    recall  f1-score   support\n",
      "\n",
      "         0.0       0.78      0.77      0.78        75\n",
      "         1.0       0.71      0.72      0.71        57\n",
      "\n",
      "    accuracy                           0.75       132\n",
      "   macro avg       0.75      0.75      0.75       132\n",
      "weighted avg       0.75      0.75      0.75       132\n",
      "\n"
     ]
    }
   ],
   "source": [
    "from sklearn import metrics\n",
    "print(metrics.classification_report(test_labels_final.flatten(),output['y_pred_test'].flatten()))"
   ]
  },
  {
   "cell_type": "markdown",
   "metadata": {},
   "source": [
    "## Summary\n",
    "\n",
    "Well done! In this lab you built your first neural network in order to identify images of Santa! In the upcoming labs you'll see how to extend your neural networks to include a larger number of layers and how to then successively prune these complex schemas to improve test and train accuracies."
   ]
  }
 ],
 "metadata": {
  "kernelspec": {
   "display_name": "Python 3",
   "language": "python",
   "name": "python3"
  },
  "language_info": {
   "codemirror_mode": {
    "name": "ipython",
    "version": 3
   },
   "file_extension": ".py",
   "mimetype": "text/x-python",
   "name": "python",
   "nbconvert_exporter": "python",
   "pygments_lexer": "ipython3",
   "version": "3.6.9"
  },
  "toc": {
   "base_numbering": 1,
   "nav_menu": {},
   "number_sections": true,
   "sideBar": true,
   "skip_h1_title": false,
   "title_cell": "Table of Contents",
   "title_sidebar": "Contents",
   "toc_cell": false,
   "toc_position": {},
   "toc_section_display": true,
   "toc_window_display": false
  }
 },
 "nbformat": 4,
 "nbformat_minor": 2
}
